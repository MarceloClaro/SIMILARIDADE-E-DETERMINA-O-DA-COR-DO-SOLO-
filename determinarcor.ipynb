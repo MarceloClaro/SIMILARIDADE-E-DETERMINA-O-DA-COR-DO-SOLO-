{
  "nbformat": 4,
  "nbformat_minor": 0,
  "metadata": {
    "kernelspec": {
      "display_name": "Python 3",
      "language": "python",
      "name": "python3"
    },
    "language_info": {
      "codemirror_mode": {
        "name": "ipython",
        "version": 3
      },
      "file_extension": ".py",
      "mimetype": "text/x-python",
      "name": "python",
      "nbconvert_exporter": "python",
      "pygments_lexer": "ipython3",
      "version": "3.7.6"
    },
    "colab": {
      "name": "determinarcor.ipynb",
      "provenance": [],
      "collapsed_sections": [],
      "include_colab_link": true
    }
  },
  "cells": [
    {
      "cell_type": "markdown",
      "metadata": {
        "id": "view-in-github",
        "colab_type": "text"
      },
      "source": [
        "<a href=\"https://colab.research.google.com/github/MarceloClaro/SIMILARIDADE-E-DETERMINA-O-DA-COR-DO-SOLO-/blob/master/determinarcor.ipynb\" target=\"_parent\"><img src=\"https://colab.research.google.com/assets/colab-badge.svg\" alt=\"Open In Colab\"/></a>"
      ]
    },
    {
      "cell_type": "code",
      "metadata": {
        "id": "aMR3-ruLdyAV",
        "colab_type": "code",
        "colab": {}
      },
      "source": [
        "pip install colour-science"
      ],
      "execution_count": 0,
      "outputs": []
    },
    {
      "cell_type": "code",
      "metadata": {
        "id": "BAfeIo5ri9AB",
        "colab_type": "code",
        "colab": {}
      },
      "source": [
        "from google.colab import drive\n",
        "drive.mount('/content/drive')"
      ],
      "execution_count": 0,
      "outputs": []
    },
    {
      "cell_type": "code",
      "metadata": {
        "id": "KAH68xGTdyAd",
        "colab_type": "code",
        "colab": {}
      },
      "source": [
        "import os\n",
        "from collections import Counter\n",
        "import colour\n",
        "import numpy as np\n",
        "from PIL import Image\n",
        "from matplotlib import pyplot as plt\n",
        "from sklearn.cluster import KMeans\n"
      ],
      "execution_count": 0,
      "outputs": []
    },
    {
      "cell_type": "code",
      "metadata": {
        "id": "C7KycsIBdyAl",
        "colab_type": "code",
        "colab": {}
      },
      "source": [
        "def rgb2hex(rgb):\n",
        "    hex = \"#{:02x}{:02x}{:02x}\".format(int(rgb[0]), int(rgb[1]), int(rgb[2]))\n",
        "    # hex = f\"#{rgb[0]}{}{}\"\n",
        "    return hex"
      ],
      "execution_count": 0,
      "outputs": []
    },
    {
      "cell_type": "code",
      "metadata": {
        "id": "oRFxzG9cewfU",
        "colab_type": "code",
        "colab": {}
      },
      "source": [
        "rgb = [1, 2, 3]\n",
        "hex = [\"#\"]\n",
        "[hex.append(f\"{c:}\") for c in rgb]\n",
        "''.join(hex)"
      ],
      "execution_count": 0,
      "outputs": []
    },
    {
      "cell_type": "code",
      "metadata": {
        "id": "1LU2-B6cdyAt",
        "colab_type": "code",
        "colab": {}
      },
      "source": [
        "PATH = './download.jpg'\n",
        "WIDTH = 128\n",
        "HEIGHT = 128\n",
        "CLUSTERS = 6\n"
      ],
      "execution_count": 0,
      "outputs": []
    },
    {
      "cell_type": "code",
      "metadata": {
        "id": "tLOSbGYTdyAx",
        "colab_type": "code",
        "colab": {}
      },
      "source": [
        "image = Image.open(PATH)\n",
        "\n",
        "image.size\n",
        "\n",
        "print(\"Loaded {f} image. Size: {s:.2f} KB. Dimensions: ({d})\".format(\n",
        "    f=image.format, s=os.path.getsize(PATH)/1024, d=image.size))\n",
        "\n",
        "image"
      ],
      "execution_count": 0,
      "outputs": []
    },
    {
      "cell_type": "code",
      "metadata": {
        "id": "fTqt-RKldyA4",
        "colab_type": "code",
        "colab": {}
      },
      "source": [
        "def calculate_new_size(image):\n",
        "    if image.width >= image.height:\n",
        "        wpercent = (WIDTH / float(image.width))\n",
        "        hsize = int((float(image.height) * float(wpercent)))\n",
        "        new_width, new_height = WIDTH, hsize\n",
        "    else:\n",
        "        hpercent = (HEIGHT / float(image.height))\n",
        "        wsize = int((float(image.width) * float(hpercent)))\n",
        "        new_width, new_height = wsize, HEIGHT\n",
        "        \n",
        "    image.resize((new_width, new_height), Image.ANTIALIAS)\n",
        "    return image, new_width, new_height\n"
      ],
      "execution_count": 0,
      "outputs": []
    },
    {
      "cell_type": "code",
      "metadata": {
        "id": "VN1UNAmcdyBA",
        "colab_type": "code",
        "colab": {}
      },
      "source": [
        "new_image, new_width, new_height = calculate_new_size(image)\n",
        "print(f\"New dimensions: {new_width}x{new_height}\")\n",
        "img_array = np.array(new_image)\n",
        "img_vector = img_array.reshape((img_array.shape[0] * img_array.shape[1], 3))\n",
        "new_image"
      ],
      "execution_count": 0,
      "outputs": []
    },
    {
      "cell_type": "code",
      "metadata": {
        "id": "q6DcAv06dyBX",
        "colab_type": "code",
        "colab": {}
      },
      "source": [
        "model = KMeans(n_clusters=CLUSTERS)\n",
        "labels = model.fit_predict(img_vector)\n",
        "label_counts = Counter(labels)\n",
        "model.cluster_centers_"
      ],
      "execution_count": 0,
      "outputs": []
    },
    {
      "cell_type": "code",
      "metadata": {
        "id": "ehUkBsSFdyBk",
        "colab_type": "code",
        "colab": {}
      },
      "source": [
        "total_count = sum(label_counts.values())\n",
        "total_count"
      ],
      "execution_count": 0,
      "outputs": []
    },
    {
      "cell_type": "code",
      "metadata": {
        "id": "KshUr5rndyBn",
        "colab_type": "code",
        "colab": {}
      },
      "source": [
        "hex_colors = [rgb2hex(center) for center in model.cluster_centers_]\n",
        "hex_colors"
      ],
      "execution_count": 0,
      "outputs": []
    },
    {
      "cell_type": "code",
      "metadata": {
        "id": "891f958RdyB2",
        "colab_type": "code",
        "colab": {}
      },
      "source": [
        "list(zip(hex_colors, list(label_counts.values())))\n"
      ],
      "execution_count": 0,
      "outputs": []
    },
    {
      "cell_type": "code",
      "metadata": {
        "id": "IeDlOKZydyB_",
        "colab_type": "code",
        "colab": {}
      },
      "source": [
        "plt.figure(figsize=(14, 8))"
      ],
      "execution_count": 0,
      "outputs": []
    },
    {
      "cell_type": "code",
      "metadata": {
        "id": "GVX8vhqbdyCD",
        "colab_type": "code",
        "colab": {}
      },
      "source": [
        "plt.subplot(221)"
      ],
      "execution_count": 0,
      "outputs": []
    },
    {
      "cell_type": "code",
      "metadata": {
        "id": "5vEJkN7gdyCG",
        "colab_type": "code",
        "colab": {}
      },
      "source": [
        "plt.imshow(image)"
      ],
      "execution_count": 0,
      "outputs": []
    },
    {
      "cell_type": "code",
      "metadata": {
        "id": "nrAQDMo1dyCL",
        "colab_type": "code",
        "colab": {}
      },
      "source": [
        "plt.axis('off')"
      ],
      "execution_count": 0,
      "outputs": []
    },
    {
      "cell_type": "code",
      "metadata": {
        "id": "0_O0wMuNdyCP",
        "colab_type": "code",
        "colab": {}
      },
      "source": [
        "plt.subplot(222)"
      ],
      "execution_count": 0,
      "outputs": []
    },
    {
      "cell_type": "code",
      "metadata": {
        "id": "hl8cG4dZdyCS",
        "colab_type": "code",
        "colab": {}
      },
      "source": [
        "plt.pie(label_counts.values(), labels=hex_colors, colors=[color / 255 for color in model.cluster_centers_],\n",
        "        autopct='%1.1f%%',\n",
        "        shadow=True, startangle=90)"
      ],
      "execution_count": 0,
      "outputs": []
    },
    {
      "cell_type": "code",
      "metadata": {
        "id": "oFtK9pPXdyCY",
        "colab_type": "code",
        "colab": {}
      },
      "source": [
        "plt.axis('equal')"
      ],
      "execution_count": 0,
      "outputs": []
    },
    {
      "cell_type": "code",
      "metadata": {
        "id": "Gp00AXtWdyCb",
        "colab_type": "code",
        "colab": {}
      },
      "source": [
        "plt.title('CORES DO SOLO')"
      ],
      "execution_count": 0,
      "outputs": []
    },
    {
      "cell_type": "code",
      "metadata": {
        "id": "fmsCgO3ddyCf",
        "colab_type": "code",
        "colab": {}
      },
      "source": [
        "plt.show()"
      ],
      "execution_count": 0,
      "outputs": []
    },
    {
      "cell_type": "code",
      "metadata": {
        "id": "b7-ACTTkdyCm",
        "colab_type": "code",
        "colab": {}
      },
      "source": [
        ""
      ],
      "execution_count": 0,
      "outputs": []
    }
  ]
}